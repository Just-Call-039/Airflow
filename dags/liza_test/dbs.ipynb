{
 "cells": [
  {
   "cell_type": "code",
   "execution_count": null,
   "metadata": {},
   "outputs": [
    {
     "name": "stdout",
     "output_type": "stream",
     "text": [
      "Чтение файла с сервера: scripts fsp/Current Files/Ч.csv\n"
     ]
    },
    {
     "name": "stdout",
     "output_type": "stream",
     "text": [
      "Файл успешно загружен с сервера.\n"
     ]
    },
    {
     "data": {
      "text/html": [
       "<div>\n",
       "<style scoped>\n",
       "    .dataframe tbody tr th:only-of-type {\n",
       "        vertical-align: middle;\n",
       "    }\n",
       "\n",
       "    .dataframe tbody tr th {\n",
       "        vertical-align: top;\n",
       "    }\n",
       "\n",
       "    .dataframe thead th {\n",
       "        text-align: right;\n",
       "    }\n",
       "</style>\n",
       "<table border=\"1\" class=\"dataframe\">\n",
       "  <thead>\n",
       "    <tr style=\"text-align: right;\">\n",
       "      <th></th>\n",
       "      <th>id_user</th>\n",
       "      <th>date</th>\n",
       "      <th>worktime</th>\n",
       "      <th>waiting</th>\n",
       "      <th>talk_inbound</th>\n",
       "    </tr>\n",
       "  </thead>\n",
       "  <tbody>\n",
       "    <tr>\n",
       "      <th>0</th>\n",
       "      <td>10039a2f-573d-dd4e-fce4-67973022a3a7</td>\n",
       "      <td>2025-01-01</td>\n",
       "      <td>NaN</td>\n",
       "      <td>NaN</td>\n",
       "      <td>0.0</td>\n",
       "    </tr>\n",
       "    <tr>\n",
       "      <th>1</th>\n",
       "      <td>10039a2f-573d-dd4e-fce4-67973022a3a7</td>\n",
       "      <td>2025-01-02</td>\n",
       "      <td>NaN</td>\n",
       "      <td>NaN</td>\n",
       "      <td>0.0</td>\n",
       "    </tr>\n",
       "    <tr>\n",
       "      <th>2</th>\n",
       "      <td>10039a2f-573d-dd4e-fce4-67973022a3a7</td>\n",
       "      <td>2025-01-03</td>\n",
       "      <td>NaN</td>\n",
       "      <td>NaN</td>\n",
       "      <td>0.0</td>\n",
       "    </tr>\n",
       "    <tr>\n",
       "      <th>3</th>\n",
       "      <td>10039a2f-573d-dd4e-fce4-67973022a3a7</td>\n",
       "      <td>2025-01-04</td>\n",
       "      <td>NaN</td>\n",
       "      <td>NaN</td>\n",
       "      <td>0.0</td>\n",
       "    </tr>\n",
       "    <tr>\n",
       "      <th>4</th>\n",
       "      <td>10039a2f-573d-dd4e-fce4-67973022a3a7</td>\n",
       "      <td>2025-01-05</td>\n",
       "      <td>NaN</td>\n",
       "      <td>NaN</td>\n",
       "      <td>0.0</td>\n",
       "    </tr>\n",
       "  </tbody>\n",
       "</table>\n",
       "</div>"
      ],
      "text/plain": [
       "                                id_user        date  worktime  waiting  \\\n",
       "0  10039a2f-573d-dd4e-fce4-67973022a3a7  2025-01-01       NaN      NaN   \n",
       "1  10039a2f-573d-dd4e-fce4-67973022a3a7  2025-01-02       NaN      NaN   \n",
       "2  10039a2f-573d-dd4e-fce4-67973022a3a7  2025-01-03       NaN      NaN   \n",
       "3  10039a2f-573d-dd4e-fce4-67973022a3a7  2025-01-04       NaN      NaN   \n",
       "4  10039a2f-573d-dd4e-fce4-67973022a3a7  2025-01-05       NaN      NaN   \n",
       "\n",
       "   talk_inbound  \n",
       "0           0.0  \n",
       "1           0.0  \n",
       "2           0.0  \n",
       "3           0.0  \n",
       "4           0.0  "
      ]
     },
     "execution_count": 8,
     "metadata": {},
     "output_type": "execute_result"
    }
   ],
   "source": [
    "\n",
    "from smb.SMBConnection import SMBConnection\n",
    "from smb.smb_structs import OperationFailure\n",
    "import pandas as pd\n",
    "\n",
    "def transfer_file_from_dbs(file_path_on_share, local_file_path):\n",
    "    server_ip = '192.168.1.157'\n",
    "    server_name = 'servername'\n",
    "    username = 'user_dbs01'\n",
    "    password = 'tZSzfjLEkD95'\n",
    "    share_name = 'dbs'\n",
    "\n",
    "    try:\n",
    "        conn = SMBConnection(username, password, 'my_machine_name', server_name, use_ntlm_v2=True)\n",
    "        connected = conn.connect(server_ip, 445)\n",
    "\n",
    "        if connected:\n",
    "            try:\n",
    "\n",
    "\n",
    "                # Теперь читаем файл с сервера\n",
    "                with open(local_file_path, 'wb') as file_obj:\n",
    "                    print(f'Чтение файла с сервера: {file_path_on_share}')\n",
    "                    conn.retrieveFile(share_name, file_path_on_share, file_obj)\n",
    "                    print('Файл успешно загружен с сервера.')\n",
    "\n",
    "                # Читаем DataFrame из локального файла\n",
    "                df = pd.read_csv(local_file_path)\n",
    "                return df\n",
    "\n",
    "            except OperationFailure as e:\n",
    "                print(f'Ошибка при попытке скачать файл: {e}')\n",
    "        else:\n",
    "            print(\"Не удалось подключиться к Samba серверу\")\n",
    "\n",
    "    finally:\n",
    "        conn.close()\n",
    "\n",
    "file_path_on_share = 'scripts fsp/Current Files/Ч.csv'\n",
    "local_file_path = '/root/airflow/dags/liza_test/Files/ddg.csv'\n",
    "df = transfer_file_from_dbs(file_path_on_share, local_file_path)\n",
    "df.head()\n"
   ]
  },
  {
   "cell_type": "code",
   "execution_count": 3,
   "metadata": {},
   "outputs": [
    {
     "name": "stdout",
     "output_type": "stream",
     "text": [
      "Collecting pysmb\n",
      "  Downloading pysmb-1.2.10.zip (1.3 MB)\n",
      "\u001b[K     |████████████████████████████████| 1.3 MB 18 kB/s  eta 0:00:01\n",
      "\u001b[?25hRequirement already satisfied: pyasn1 in /usr/lib/python3/dist-packages (from pysmb) (0.4.2)\n",
      "Collecting tqdm\n",
      "  Downloading tqdm-4.67.1-py3-none-any.whl (78 kB)\n",
      "\u001b[K     |████████████████████████████████| 78 kB 35 kB/s s eta 0:00:01\n",
      "\u001b[?25hBuilding wheels for collected packages: pysmb\n",
      "  Building wheel for pysmb (setup.py) ... \u001b[?25ldone\n",
      "\u001b[?25h  Created wheel for pysmb: filename=pysmb-1.2.10-py3-none-any.whl size=84846 sha256=b3099fa85e18f128ee76583aff7b0be712ca02c62b0c6293babc56fd879a7e6a\n",
      "  Stored in directory: /root/.cache/pip/wheels/68/09/b0/9501978b96a1ba281f58fda843eb4883c612a01d70fab43179\n",
      "Successfully built pysmb\n",
      "Installing collected packages: tqdm, pysmb\n",
      "Successfully installed pysmb-1.2.10 tqdm-4.67.1\n",
      "Note: you may need to restart the kernel to use updated packages.\n"
     ]
    }
   ],
   "source": [
    "pip install pysmb\n"
   ]
  },
  {
   "cell_type": "code",
   "execution_count": null,
   "metadata": {},
   "outputs": [],
   "source": []
  }
 ],
 "metadata": {
  "kernelspec": {
   "display_name": "Python 3",
   "language": "python",
   "name": "python3"
  },
  "language_info": {
   "codemirror_mode": {
    "name": "ipython",
    "version": 3
   },
   "file_extension": ".py",
   "mimetype": "text/x-python",
   "name": "python",
   "nbconvert_exporter": "python",
   "pygments_lexer": "ipython3",
   "version": "3.8.10"
  }
 },
 "nbformat": 4,
 "nbformat_minor": 2
}
